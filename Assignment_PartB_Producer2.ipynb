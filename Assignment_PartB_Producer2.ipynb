{
 "cells": [
  {
   "cell_type": "code",
   "execution_count": 1,
   "id": "1d3e35b1",
   "metadata": {},
   "outputs": [
    {
     "name": "stdout",
     "output_type": "stream",
     "text": [
      "Message published successfully. Data: {'latitude': -34.9843, 'longitude': 141.8736, 'confidence': 53.0, 'surface_temperature_celcius': 48.0, 'created_time': '2021-12-31T01:43:27', 'producer_id': 'producer_hotspot_aqua'}\n",
      "Message published successfully. Data: {'latitude': -37.7496, 'longitude': 148.3898, 'confidence': 64.0, 'surface_temperature_celcius': 46.0, 'created_time': '2021-12-31T07:44:15', 'producer_id': 'producer_hotspot_aqua'}\n",
      "Message published successfully. Data: {'latitude': -36.8083, 'longitude': 142.0219, 'confidence': 67.0, 'surface_temperature_celcius': 44.0, 'created_time': '2021-12-31T11:19:24', 'producer_id': 'producer_hotspot_aqua'}\n",
      "Message published successfully. Data: {'latitude': -37.8928, 'longitude': 146.1906, 'confidence': 100.0, 'surface_temperature_celcius': 107.0, 'created_time': '2021-12-31T14:10:53', 'producer_id': 'producer_hotspot_aqua'}\n",
      "Message published successfully. Data: {'latitude': -37.856, 'longitude': 143.416, 'confidence': 75.0, 'surface_temperature_celcius': 41.0, 'created_time': '2021-12-31T20:47:57', 'producer_id': 'producer_hotspot_aqua'}\n",
      "Message published successfully. Data: {'latitude': -36.7787, 'longitude': 141.4449, 'confidence': 97.0, 'surface_temperature_celcius': 80.0, 'created_time': '2022-01-01T00:40:46', 'producer_id': 'producer_hotspot_aqua'}\n"
     ]
    },
    {
     "ename": "KeyboardInterrupt",
     "evalue": "",
     "output_type": "error",
     "traceback": [
      "\u001b[0;31m---------------------------------------------------------------------------\u001b[0m",
      "\u001b[0;31mKeyboardInterrupt\u001b[0m                         Traceback (most recent call last)",
      "Cell \u001b[0;32mIn[1], line 79\u001b[0m\n\u001b[1;32m     75\u001b[0m selected_data[\u001b[38;5;124m'\u001b[39m\u001b[38;5;124mproducer_id\u001b[39m\u001b[38;5;124m'\u001b[39m] \u001b[38;5;241m=\u001b[39m \u001b[38;5;124m'\u001b[39m\u001b[38;5;124mproducer_hotspot_aqua\u001b[39m\u001b[38;5;124m'\u001b[39m\n\u001b[1;32m     77\u001b[0m publish_message(producer, topic, selected_data)\n\u001b[0;32m---> 79\u001b[0m \u001b[43msleep\u001b[49m\u001b[43m(\u001b[49m\u001b[38;5;241;43m2\u001b[39;49m\u001b[43m)\u001b[49m\n",
      "\u001b[0;31mKeyboardInterrupt\u001b[0m: "
     ]
    }
   ],
   "source": [
    "from time import sleep\n",
    "from json import dumps\n",
    "from kafka import KafkaProducer\n",
    "import random\n",
    "import datetime as dt\n",
    "import pandas\n",
    "\n",
    "# Reading data from CSV\n",
    "def readCSV():\n",
    "    climate_streaming_data = pandas.read_csv('hotspot_AQUA_streaming.csv')\n",
    "    streaming_data = []\n",
    "    for _, row in climate_streaming_data.iterrows(): # Iterate through each row in the CSV\n",
    "        data_point = {} # Create dictionary for individual row & format data appropriately.\n",
    "        data_point['latitude'] = float(row['latitude'])\n",
    "        data_point['longitude'] = float(row['longitude'])\n",
    "        data_point['confidence'] = float(row['confidence'])\n",
    "        data_point['surface_temperature_celcius'] = float(\n",
    "            row['surface_temperature_celcius'])\n",
    "\n",
    "        streaming_data.append(data_point)\n",
    "\n",
    "    return streaming_data\n",
    "\n",
    "\n",
    "def publish_message(producer_instance, topic_name, data):\n",
    "    try:\n",
    "        producer_instance.send(topic_name, value=data)\n",
    "        producer_instance.flush()\n",
    "        print('Message published successfully. Data: ' + str(data))\n",
    "    except Exception as ex:\n",
    "        print('Exception in publishing message.')\n",
    "        print(str(ex))\n",
    "\n",
    "\n",
    "def connect_kafka_producer():\n",
    "    _producer = None\n",
    "    try:\n",
    "        _producer = KafkaProducer( # Added serializer on the producer, which will automatically serialize to JSON string format.\n",
    "            bootstrap_servers=['192.168.1.5:9092'], value_serializer=lambda x: dumps(x).encode('ascii'), api_version=(0, 10))\n",
    "    except Exception as ex:\n",
    "        print('Exception while connecting Kafka.')\n",
    "        print(str(ex))\n",
    "    finally:\n",
    "        return _producer\n",
    "\n",
    "\n",
    "if __name__ == '__main__':\n",
    "\n",
    "    data = readCSV() # Read all data from CSV at one time.\n",
    "    topic = 'Hotspot_AQUA'\n",
    "    producer = connect_kafka_producer()\n",
    "    created_date = dt.datetime(2021, 12, 31) # Initial date\n",
    "\n",
    "    count = 0\n",
    "\n",
    "    while True:\n",
    "        count += 4\n",
    "\n",
    "        random_number = random.randrange(0, len(data)) # random aqua data point.\n",
    "        selected_data = data[random_number]\n",
    "\n",
    "        if count > 16: # 10 seconds make a day so 5 iterations with gap of 4 sec makes up limit to be 16\n",
    "            created_date += dt.timedelta(days=1) # Set to next day & reset time back to 0 hours, 0 minutes & 0 seconds.\n",
    "            created_date.replace(hour=0, minute=0, second=0)\n",
    "            count = 0 # strating count back from 0\n",
    "\n",
    "        # Every two seconds, I select a random hour (in the space of 4 hours), random minutes & seconds, to make a more simulated flow of data.\n",
    "        # As the count increases (as it does 4), the next two seconds, will be a random time, keeping the output in sequential & random order.\n",
    "        created_time = created_date + dt.timedelta(\n",
    "            hours=(random.randrange(count - 4, count)), # so possible values can be in range 0 to 3 previous iterations\n",
    "            minutes=(random.randrange(0, 60)),\n",
    "            seconds=(random.randrange(0, 60)))\n",
    "        selected_data['created_time'] = created_time.isoformat()\n",
    "        # print(selected_data['created_time'].strftime(\"%m/%d/%Y, %H:%M:%S\"))\n",
    "        selected_data['producer_id'] = 'producer_hotspot_aqua'\n",
    "\n",
    "        publish_message(producer, topic, selected_data)\n",
    "\n",
    "        sleep(2)"
   ]
  },
  {
   "cell_type": "code",
   "execution_count": null,
   "id": "c52881e8",
   "metadata": {},
   "outputs": [],
   "source": []
  }
 ],
 "metadata": {
  "kernelspec": {
   "display_name": "Python 3 (ipykernel)",
   "language": "python",
   "name": "python3"
  },
  "language_info": {
   "codemirror_mode": {
    "name": "ipython",
    "version": 3
   },
   "file_extension": ".py",
   "mimetype": "text/x-python",
   "name": "python",
   "nbconvert_exporter": "python",
   "pygments_lexer": "ipython3",
   "version": "3.8.15"
  }
 },
 "nbformat": 4,
 "nbformat_minor": 5
}
