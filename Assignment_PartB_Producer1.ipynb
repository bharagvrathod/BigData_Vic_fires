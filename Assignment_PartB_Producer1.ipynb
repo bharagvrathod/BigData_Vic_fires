{
 "cells": [
  {
   "cell_type": "code",
   "execution_count": 1,
   "id": "07194b40",
   "metadata": {},
   "outputs": [
    {
     "name": "stdout",
     "output_type": "stream",
     "text": [
      "Collecting kafka-python\n",
      "  Downloading kafka_python-2.0.2-py2.py3-none-any.whl (246 kB)\n",
      "\u001b[2K     \u001b[90m━━━━━━━━━━━━━━━━━━━━━━━━━━━━━━━━━━━━━━━\u001b[0m \u001b[32m246.5/246.5 kB\u001b[0m \u001b[31m7.4 MB/s\u001b[0m eta \u001b[36m0:00:00\u001b[0m\n",
      "\u001b[?25hInstalling collected packages: kafka-python\n",
      "Successfully installed kafka-python-2.0.2\n"
     ]
    }
   ],
   "source": [
    "!pip install kafka-python"
   ]
  },
  {
   "cell_type": "code",
   "execution_count": 6,
   "id": "a03c5495",
   "metadata": {},
   "outputs": [],
   "source": [
    "from time import sleep\n",
    "from json import dumps\n",
    "from kafka import KafkaProducer\n",
    "import random\n",
    "import datetime as dt\n",
    "import pandas\n",
    "\n",
    "#host_ip = \"192.168.1.5\""
   ]
  },
  {
   "cell_type": "code",
   "execution_count": 7,
   "id": "405e6be4",
   "metadata": {},
   "outputs": [],
   "source": [
    "# Reading data from CSV\n",
    "def readCSV():\n",
    "    climate_streaming_data = pandas.read_csv('climate_streaming.csv') # Get data from CSV\n",
    "    streaming_data = []\n",
    "    for _, row in climate_streaming_data.iterrows(): # Iterate through each row in the CSV\n",
    "        data_point = {} # Create dictionary & create key for each item from CSV data.\n",
    "        # storing numerical values as float based on the data \n",
    "        data_point['latitude'] = float(row['latitude'])\n",
    "        data_point['longitude'] = float(row['longitude'])\n",
    "        data_point['air_temperature_celcius'] = float(\n",
    "            row['air_temperature_celcius'])\n",
    "        data_point['relative_humidity'] = float(row['relative_humidity'])\n",
    "        data_point['windspeed_knots'] = float(row['windspeed_knots'])\n",
    "        data_point['max_wind_speed'] = float(row['max_wind_speed'])\n",
    "\n",
    "        # Unncessary space at beginning of value is removed.\n",
    "        # We also split precipation type and amount, to make it easier for sorting/searching later.\n",
    "        precipitation = str(row['precipitation ']).replace(\" \", \"\")\n",
    "        data_point['precipitation_type'] = precipitation[-1]\n",
    "        data_point['precipitation'] = float(precipitation[0:-1])\n",
    "\n",
    "        data_point['ghi'] = float(row['GHI_w/m2'])\n",
    "\n",
    "        streaming_data.append(data_point)\n",
    "\n",
    "    return streaming_data"
   ]
  },
  {
   "cell_type": "code",
   "execution_count": 8,
   "id": "c3904747",
   "metadata": {},
   "outputs": [],
   "source": [
    "def publish_message(producer_instance, topic_name, data):\n",
    "    try:\n",
    "        producer_instance.send(topic_name, value=data)\n",
    "        producer_instance.flush()\n",
    "        print('Message published successfully. Data: ' + str(data))\n",
    "    except Exception as ex:\n",
    "        print('Exception in publishing message.')\n",
    "        print(str(ex))\n",
    "\n",
    "\n",
    "def connect_kafka_producer():\n",
    "    _producer = None\n",
    "    try:\n",
    "        _producer = KafkaProducer( # Added serializer on the producer, which will automatically serialize to JSON string format.\n",
    "            bootstrap_servers=['192.168.1.5:9092'], value_serializer=lambda x: dumps(x).encode('ascii'), api_version=(0, 10)) \n",
    "    except Exception as ex:\n",
    "        print('Exception while connecting Kafka.')\n",
    "        print(str(ex))\n",
    "    finally:\n",
    "        return _producer"
   ]
  },
  {
   "cell_type": "code",
   "execution_count": 10,
   "id": "30612ea5",
   "metadata": {},
   "outputs": [
    {
     "name": "stdout",
     "output_type": "stream",
     "text": [
      "Message published successfully. Data: {'latitude': -37.856, 'longitude': 143.416, 'air_temperature_celcius': 14.0, 'relative_humidity': 51.0, 'windspeed_knots': 9.1, 'max_wind_speed': 12.0, 'precipitation_type': 'G', 'precipitation': 0.0, 'ghi': 119.0, 'created_date': '2023-01-02T00:00:00', 'producer_id': 'producer_climate'}\n",
      "Message published successfully. Data: {'latitude': -37.623, 'longitude': 149.284, 'air_temperature_celcius': 21.0, 'relative_humidity': 64.5, 'windspeed_knots': 10.6, 'max_wind_speed': 15.9, 'precipitation_type': 'G', 'precipitation': 1.26, 'ghi': 158.0, 'created_date': '2023-01-03T00:00:00', 'producer_id': 'producer_climate'}\n",
      "Message published successfully. Data: {'latitude': -37.336, 'longitude': 148.073, 'air_temperature_celcius': 7.0, 'relative_humidity': 40.5, 'windspeed_knots': 8.1, 'max_wind_speed': 15.0, 'precipitation_type': 'G', 'precipitation': 0.12, 'ghi': 65.0, 'created_date': '2023-01-04T00:00:00', 'producer_id': 'producer_climate'}\n",
      "Message published successfully. Data: {'latitude': -36.498, 'longitude': 144.877, 'air_temperature_celcius': 12.0, 'relative_humidity': 51.6, 'windspeed_knots': 3.4, 'max_wind_speed': 11.1, 'precipitation_type': 'G', 'precipitation': 0.05, 'ghi': 101.0, 'created_date': '2023-01-05T00:00:00', 'producer_id': 'producer_climate'}\n",
      "Message published successfully. Data: {'latitude': -36.543, 'longitude': 141.138, 'air_temperature_celcius': 15.0, 'relative_humidity': 47.7, 'windspeed_knots': 5.9, 'max_wind_speed': 13.0, 'precipitation_type': 'I', 'precipitation': 0.0, 'ghi': 131.0, 'created_date': '2023-01-06T00:00:00', 'producer_id': 'producer_climate'}\n",
      "Message published successfully. Data: {'latitude': -37.469, 'longitude': 148.103, 'air_temperature_celcius': 10.0, 'relative_humidity': 47.1, 'windspeed_knots': 4.6, 'max_wind_speed': 8.9, 'precipitation_type': 'G', 'precipitation': 0.0, 'ghi': 88.0, 'created_date': '2023-01-07T00:00:00', 'producer_id': 'producer_climate'}\n"
     ]
    },
    {
     "ename": "KeyboardInterrupt",
     "evalue": "",
     "output_type": "error",
     "traceback": [
      "\u001b[0;31m---------------------------------------------------------------------------\u001b[0m",
      "\u001b[0;31mKeyboardInterrupt\u001b[0m                         Traceback (most recent call last)",
      "Cell \u001b[0;32mIn[10], line 17\u001b[0m\n\u001b[1;32m     13\u001b[0m selected_data[\u001b[38;5;124m'\u001b[39m\u001b[38;5;124mproducer_id\u001b[39m\u001b[38;5;124m'\u001b[39m] \u001b[38;5;241m=\u001b[39m \u001b[38;5;124m'\u001b[39m\u001b[38;5;124mproducer_climate\u001b[39m\u001b[38;5;124m'\u001b[39m\n\u001b[1;32m     15\u001b[0m publish_message(producer, topic, selected_data) \u001b[38;5;66;03m# Publish message\u001b[39;00m\n\u001b[0;32m---> 17\u001b[0m \u001b[43msleep\u001b[49m\u001b[43m(\u001b[49m\u001b[38;5;241;43m10\u001b[39;49m\u001b[43m)\u001b[49m\n",
      "\u001b[0;31mKeyboardInterrupt\u001b[0m: "
     ]
    }
   ],
   "source": [
    "if __name__ == '__main__':\n",
    "\n",
    "    data = readCSV()\n",
    "    topic = 'Climate'\n",
    "    producer = connect_kafka_producer()\n",
    "    created_date = dt.datetime(2023, 1, 1) \n",
    "\n",
    "    while True:\n",
    "        random_number = random.randrange(0, len(data))\n",
    "        selected_data = data[random_number] # Pick a random climate data point.\n",
    "        created_date += dt.timedelta(days=1) # Increase date from previous date.\n",
    "        selected_data['created_date'] = created_date.isoformat() # Set date to string format (to be stored in JSON)\n",
    "        selected_data['producer_id'] = 'producer_climate'\n",
    "\n",
    "        publish_message(producer, topic, selected_data) # Publish message\n",
    "\n",
    "        sleep(10)"
   ]
  },
  {
   "cell_type": "code",
   "execution_count": null,
   "id": "335c6873",
   "metadata": {},
   "outputs": [],
   "source": []
  }
 ],
 "metadata": {
  "kernelspec": {
   "display_name": "Python 3 (ipykernel)",
   "language": "python",
   "name": "python3"
  },
  "language_info": {
   "codemirror_mode": {
    "name": "ipython",
    "version": 3
   },
   "file_extension": ".py",
   "mimetype": "text/x-python",
   "name": "python",
   "nbconvert_exporter": "python",
   "pygments_lexer": "ipython3",
   "version": "3.8.15"
  }
 },
 "nbformat": 4,
 "nbformat_minor": 5
}
